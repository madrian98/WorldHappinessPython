{
 "cells": [
  {
   "cell_type": "markdown",
   "id": "037dac7e",
   "metadata": {},
   "source": [
    "# 1.Environment"
   ]
  },
  {
   "cell_type": "markdown",
   "id": "bc4da250",
   "metadata": {},
   "source": [
    "## 1.1 Importing  libraries for data analysis/mining"
   ]
  },
  {
   "cell_type": "code",
   "execution_count": null,
   "id": "f7b0208b",
   "metadata": {},
   "outputs": [],
   "source": [
    "import pandas as pd\n",
    "import numpy as np\n",
    "import datetime as dt\n",
    "import matplotlib.pyplot as plt\n",
    "import seaborn as sns\n",
    "import os\n",
    "import warnings\n",
    "import folium\n",
    "import pycountry\n",
    "import pycountry_convert as pc\n",
    "import geopandas as gpd\n",
    "import ipywidgets as widgets\n",
    "import plotly.express as px\n",
    "import plotly.graph_objects as go\n",
    "import plotly.offline as pyo\n",
    "import plotly.graph_objs as go\n",
    "from chart_studio import plotly\n",
    "from plotly.subplots import make_subplots\n",
    "from plotly.offline import download_plotlyjs, init_notebook_mode, plot, iplot\n",
    "from geopy.geocoders import Nominatim\n",
    "from IPython.display import display, HTML\n",
    "from folium.plugins import MarkerCluster\n",
    "pyo.init_notebook_mode()\n",
    "init_notebook_mode(connected=True)\n",
    "display(HTML(\"<style>.container { width:100% !important; }</style>\"))\n",
    "\n",
    "pd.set_option('display.max_columns', None)\n",
    "pd.set_option('display.max_colwidth', None)\n",
    "pd.set_option('display.max_rows', 50)\n",
    "warnings.filterwarnings(\"ignore\")"
   ]
  },
  {
   "cell_type": "markdown",
   "id": "1e88d6d4",
   "metadata": {},
   "source": [
    "### Importing libraries/modules for machine learning"
   ]
  },
  {
   "cell_type": "code",
   "execution_count": null,
   "id": "70da0679",
   "metadata": {},
   "outputs": [],
   "source": [
    "import sklearn\n",
    "import xgboost as xgb\n",
    "from sklearn.preprocessing import MinMaxScaler,StandardScaler\n",
    "from sklearn import ensemble, tree, linear_model,cluster, mixture,datasets\n",
    "from sklearn.neighbors import KNeighborsRegressor\n",
    "from sklearn.model_selection import train_test_split, KFold, GridSearchCV\n",
    "from sklearn.linear_model import LinearRegression, ElasticNet,Ridge\n",
    "from sklearn.metrics import mean_absolute_error, mean_squared_error, mean_squared_log_error,r2_score\n",
    "from sklearn.cluster import KMeans\n",
    "from sklearn.datasets import make_classification\n",
    "from sklearn.ensemble import RandomForestRegressor\n",
    "from sklearn.metrics.cluster import silhouette_score\n",
    "from sklearn.svm import SVR\n",
    "from sklearn.tree import DecisionTreeRegressor\n",
    "from xgboost import XGBRegressor"
   ]
  },
  {
   "cell_type": "markdown",
   "id": "34f9f39f",
   "metadata": {},
   "source": [
    "# 2 Data"
   ]
  },
  {
   "cell_type": "markdown",
   "id": "7501886e",
   "metadata": {},
   "source": [
    "## 2.1 Data import"
   ]
  },
  {
   "cell_type": "markdown",
   "id": "f7797d3b",
   "metadata": {},
   "source": [
    "### 2021 data"
   ]
  },
  {
   "cell_type": "code",
   "execution_count": null,
   "id": "0f4057d6",
   "metadata": {},
   "outputs": [],
   "source": [
    "data_url=\"https://github.com/madrian98/WorldHappinessPython/blob/main/Data\"\n",
    "data_raw=\"?raw=true\"\n",
    "df_2021 = pd.read_csv((data_url+\"/2021.csv\"+data_raw))"
   ]
  },
  {
   "cell_type": "markdown",
   "id": "ba73c951",
   "metadata": {},
   "source": [
    "### Data info"
   ]
  },
  {
   "cell_type": "code",
   "execution_count": null,
   "id": "ce0b888c",
   "metadata": {},
   "outputs": [],
   "source": [
    "df_2021.info();"
   ]
  },
  {
   "cell_type": "markdown",
   "id": "5e923a6a",
   "metadata": {},
   "source": [
    "### Data description"
   ]
  },
  {
   "cell_type": "code",
   "execution_count": null,
   "id": "38c8e383",
   "metadata": {},
   "outputs": [],
   "source": [
    "df_2021.describe()"
   ]
  },
  {
   "cell_type": "markdown",
   "id": "0c5eeeee",
   "metadata": {},
   "source": [
    "### Searching for an empty values"
   ]
  },
  {
   "cell_type": "code",
   "execution_count": null,
   "id": "b3cb6c2f",
   "metadata": {
    "scrolled": true
   },
   "outputs": [],
   "source": [
    "df_2021.isna().sum()"
   ]
  },
  {
   "cell_type": "markdown",
   "id": "9ec4b68e",
   "metadata": {},
   "source": [
    "### Previewing data from 2021"
   ]
  },
  {
   "cell_type": "code",
   "execution_count": null,
   "id": "d6225b02",
   "metadata": {},
   "outputs": [],
   "source": [
    "df_2021.head(10)"
   ]
  },
  {
   "cell_type": "markdown",
   "id": "6b0b3a45",
   "metadata": {},
   "source": [
    "## 2.2 Data info"
   ]
  },
  {
   "cell_type": "markdown",
   "id": "00dc6afa",
   "metadata": {},
   "source": [
    "### 2021 data"
   ]
  },
  {
   "cell_type": "code",
   "execution_count": null,
   "id": "41d2cfc1",
   "metadata": {},
   "outputs": [],
   "source": [
    "df_2021.info();"
   ]
  },
  {
   "cell_type": "markdown",
   "id": "6b920cfe",
   "metadata": {},
   "source": [
    "Variables:\n",
    "- Country name.\n",
    "- Regional indicator.\n",
    "- Ladder score(Happiness score).\n",
    "- Standard error of ladder score(happiness score) : standard error of happiness score.\n",
    "- Upperwhisker : upperwhisker of happiness score.\n",
    "- Lowerwhisker : lowerwhistker of happiness score.\n",
    "- Logged GDP per capita: in described country.\n",
    "- Social support : in described country.\n",
    "- Healthy life expectancy : in described country.\n",
    "- Freedom to make life choices : in described country.\n",
    "- Generosity : in described country.\n",
    "- Perceptions of corruption : in described country.\n",
    "- Ladder score in Dystopia(Happiness score) : Dystopia - hyphothetic country with score lower than lowest in dataset.\n",
    "- Explained by: Log GDP per capita.\n",
    "- Explained by: Social support. \n",
    "- Explained by: Healthy life expectancy.\n",
    "- Explained by: Freedom to make life choices.\n",
    "- Explained by: Generosity.\n",
    "- Explained by: Perceptions of corruption.\n",
    "- Dystopia + residual : Residual - other factors which couldn't be grouped as one for described country."
   ]
  },
  {
   "cell_type": "markdown",
   "id": "7dd5e490",
   "metadata": {},
   "source": [
    "# 3.Data mining"
   ]
  },
  {
   "cell_type": "code",
   "execution_count": null,
   "id": "7ab2e579",
   "metadata": {},
   "outputs": [],
   "source": [
    "df_2021.rename({\"Ladder score\": \"Happiness score\"},axis=1, inplace=True)\n",
    "df_2021.rename({\"Ladder score in Dystopia\": \"Happiness score in Dystopia\"},axis=1, inplace=True)"
   ]
  },
  {
   "cell_type": "markdown",
   "id": "ed27d114",
   "metadata": {},
   "source": [
    "## Number of countries for each region"
   ]
  },
  {
   "cell_type": "code",
   "execution_count": null,
   "id": "fb0af25b",
   "metadata": {
    "scrolled": true
   },
   "outputs": [],
   "source": [
    "df_regions = df_2021.groupby('Regional indicator').agg({'Country name':'count'}).reset_index()\n",
    "fig = px.pie(values = df_regions['Country name'],\n",
    "             names= df_regions['Regional indicator'],\n",
    "             title=\"% of countries in each region\",\n",
    "             color_discrete_sequence=px.colors.qualitative.Dark2,\n",
    "             )\n",
    "fig.update_layout(title_font_size=22,margin = dict(l=0,r=0,b=0,t=40,pad=4,autoexpand=True),\n",
    "            width=1500,height=1000,legend_title_text='Region')\n",
    "fig.show()"
   ]
  },
  {
   "cell_type": "markdown",
   "id": "e08c1ee1",
   "metadata": {},
   "source": [
    "## Variabless in each region"
   ]
  },
  {
   "cell_type": "code",
   "execution_count": null,
   "id": "55eae193",
   "metadata": {},
   "outputs": [],
   "source": [
    "fig = px.box(df_2021,\n",
    "             x=\"Happiness score\",\n",
    "             y=\"Regional indicator\",\n",
    "             color=\"Regional indicator\",\n",
    "             color_discrete_sequence=px.colors.qualitative.Pastel_r,\n",
    "             template=\"plotly_white\")\n",
    "fig.update_traces(boxmean=True,\n",
    "                  whiskerwidth=0.8,\n",
    "                  marker_size=2,\n",
    "            line_width=2.5\n",
    "                  )\n",
    "fig.update_layout(title='Happiness score in each region',title_font_size=22,margin = dict(l=0,r=0,b=0,t=40,pad=4,autoexpand=True),\n",
    "            width=1500,height=1000,legend_title_text='Region',xaxis_title_text='Happiness score',yaxis_title_text='Region')\n",
    "fig.show()"
   ]
  },
  {
   "cell_type": "code",
   "execution_count": null,
   "id": "a521be2c",
   "metadata": {},
   "outputs": [],
   "source": [
    "fig = px.box(df_2021,\n",
    "             x=\"Logged GDP per capita\",\n",
    "             y=\"Regional indicator\",\n",
    "             color=\"Regional indicator\",\n",
    "             color_discrete_sequence=px.colors.qualitative.Pastel_r,\n",
    "             template=\"plotly_white\")\n",
    "fig.update_traces(boxmean=True,\n",
    "                  whiskerwidth=0.8,\n",
    "                  marker_size=2,\n",
    "            line_width=2.5\n",
    "                  )\n",
    "fig.update_layout(title='Logged GDP per capita in each region',title_font_size=22,margin = dict(l=0,r=0,b=0,t=40,pad=4,autoexpand=True),\n",
    "            width=1500,height=1000,legend_title_text='Region',xaxis_title_text='Logged GDP per capita',yaxis_title_text='Region')\n",
    "fig.show()"
   ]
  },
  {
   "cell_type": "code",
   "execution_count": null,
   "id": "4456ce6f",
   "metadata": {},
   "outputs": [],
   "source": [
    "fig = px.box(df_2021,\n",
    "             x=\"Social support\",\n",
    "             y=\"Regional indicator\",\n",
    "             color=\"Regional indicator\",\n",
    "             color_discrete_sequence=px.colors.qualitative.Pastel_r,\n",
    "             template=\"plotly_white\")\n",
    "fig.update_traces(boxmean=True,\n",
    "                  whiskerwidth=0.8,\n",
    "                  marker_size=2,\n",
    "            line_width=2.5\n",
    "                  )\n",
    "fig.update_layout(title='Social support in each region',title_font_size=22,margin = dict(l=0,r=0,b=0,t=40,pad=4,autoexpand=True),\n",
    "            width=1500,height=1000,legend_title_text='Region',xaxis_title_text='Social support',yaxis_title_text='Region')\n",
    "fig.show()"
   ]
  },
  {
   "cell_type": "code",
   "execution_count": null,
   "id": "f9af8e95",
   "metadata": {},
   "outputs": [],
   "source": [
    "fig = px.box(df_2021,\n",
    "             x=\"Healthy life expectancy\",\n",
    "             y=\"Regional indicator\",\n",
    "             color=\"Regional indicator\",\n",
    "             color_discrete_sequence=px.colors.qualitative.Pastel_r,\n",
    "             template=\"plotly_white\")\n",
    "fig.update_traces(boxmean=True,\n",
    "                  whiskerwidth=0.8,\n",
    "                  marker_size=2,\n",
    "            line_width=2.5\n",
    "                  )\n",
    "fig.update_layout(title='Healthy life expectancy in each region',title_font_size=22,margin = dict(l=0,r=0,b=0,t=40,pad=4,autoexpand=True),\n",
    "            width=1500,height=1000,legend_title_text='Region',xaxis_title_text='Healthy life expectancy',yaxis_title_text='Region')\n",
    "fig.show()"
   ]
  },
  {
   "cell_type": "code",
   "execution_count": null,
   "id": "da32ea69",
   "metadata": {},
   "outputs": [],
   "source": [
    "fig = px.box(df_2021,\n",
    "             x=\"Freedom to make life choices\",\n",
    "             y=\"Regional indicator\",\n",
    "             color=\"Regional indicator\",\n",
    "             color_discrete_sequence=px.colors.qualitative.Pastel_r,\n",
    "             template=\"plotly_white\")\n",
    "fig.update_traces(boxmean=True,\n",
    "                  whiskerwidth=0.8,\n",
    "                  marker_size=2,\n",
    "            line_width=2.5\n",
    "                  )\n",
    "fig.update_layout(title='Freedom to make life choices in each region',title_font_size=22,margin = dict(l=0,r=0,b=0,t=40,pad=4,autoexpand=True),\n",
    "            width=1500,height=1000,legend_title_text='Region',xaxis_title_text='Freedom to make life choices',yaxis_title_text='Region')\n",
    "fig.show()"
   ]
  },
  {
   "cell_type": "code",
   "execution_count": null,
   "id": "38a27e49",
   "metadata": {},
   "outputs": [],
   "source": [
    "fig = px.box(df_2021,\n",
    "             x=\"Generosity\",\n",
    "             y=\"Regional indicator\",\n",
    "             color=\"Regional indicator\",\n",
    "             color_discrete_sequence=px.colors.qualitative.Pastel_r,\n",
    "             template=\"plotly_white\")\n",
    "fig.update_traces(boxmean=True,\n",
    "                  whiskerwidth=0.8,\n",
    "                  marker_size=2,\n",
    "            line_width=2.5\n",
    "                  )\n",
    "fig.update_layout(title='Generosity in each region',title_font_size=22,margin = dict(l=0,r=0,b=0,t=40,pad=4,autoexpand=True),\n",
    "            width=1500,height=1000,legend_title_text='Region',xaxis_title_text='Generosity',yaxis_title_text='Region')\n",
    "fig.show()"
   ]
  },
  {
   "cell_type": "code",
   "execution_count": null,
   "id": "8d350d3e",
   "metadata": {},
   "outputs": [],
   "source": [
    "fig = px.box(df_2021,\n",
    "             x=\"Perceptions of corruption\",\n",
    "             y=\"Regional indicator\",\n",
    "             color=\"Regional indicator\",\n",
    "             color_discrete_sequence=px.colors.qualitative.Pastel_r,\n",
    "             template=\"plotly_white\")\n",
    "fig.update_traces(boxmean=True,\n",
    "                  whiskerwidth=0.8,\n",
    "                  marker_size=2,\n",
    "            line_width=2.5\n",
    "                  )\n",
    "fig.update_layout(title='Perceptions of corruption in each region',title_font_size=22,margin = dict(l=0,r=0,b=0,t=40,pad=4,autoexpand=True),\n",
    "            width=1500,height=1000,legend_title_text='Region',xaxis_title_text='Perceptions of corruption',yaxis_title_text='Region')\n",
    "fig.show()"
   ]
  },
  {
   "cell_type": "code",
   "execution_count": null,
   "id": "a39d36eb",
   "metadata": {},
   "outputs": [],
   "source": [
    "fig = px.box(df_2021,\n",
    "             x=\"Dystopia + residual\",\n",
    "             y=\"Regional indicator\",\n",
    "             color=\"Regional indicator\",\n",
    "             color_discrete_sequence=px.colors.qualitative.Pastel_r,\n",
    "             template=\"plotly_white\")\n",
    "fig.update_traces(boxmean=True,\n",
    "                  whiskerwidth=0.8,\n",
    "                  marker_size=2,\n",
    "            line_width=2.5\n",
    "                  )\n",
    "fig.update_layout(title='Dystopia + residual in each region',title_font_size=22,margin = dict(l=0,r=0,b=0,t=40,pad=4,autoexpand=True),\n",
    "            width=1500,height=1000,legend_title_text='Region',xaxis_title_text='Dystopia + residual',yaxis_title_text='Region')\n",
    "fig.show()"
   ]
  },
  {
   "cell_type": "markdown",
   "id": "718e531d",
   "metadata": {},
   "source": [
    "### Averages Values for each region"
   ]
  },
  {
   "cell_type": "code",
   "execution_count": null,
   "id": "abb16106",
   "metadata": {},
   "outputs": [],
   "source": [
    "df_reg=df_2021.copy()\n",
    "def feature_analysis(df_reg, feature):\n",
    "    template='%{text:0.2f}'\n",
    "    tickformat = None\n",
    "    grouped_df = df_reg.groupby([\"Regional indicator\"]).agg({feature : np.mean}).reset_index()\n",
    "    if grouped_df[feature].min() < 1:\n",
    "        template='%{text:0.2%}'\n",
    "        tickformat = \".2%\"\n",
    "        \n",
    "    fig = px.bar(grouped_df,\n",
    "                 x=\"Regional indicator\",\n",
    "                 y=feature,\n",
    "                 color=\"Regional indicator\",\n",
    "                 text=feature,\n",
    "                 color_discrete_sequence=px.colors.qualitative.D3,\n",
    "                 template=\"plotly_dark\"\n",
    "                )\n",
    "\n",
    "        \n",
    "    fig.update_traces(texttemplate=template, \n",
    "                      textposition='outside', \n",
    "                      marker_line_color='rgb(255,255,255)', \n",
    "                      marker_line_width=2.5, \n",
    "                      opacity=0.7)\n",
    "\n",
    "    fig.update_layout(showlegend=False,\n",
    "                      title=\"{} in regions\".format(feature),\n",
    "                      yaxis=dict(tickformat=tickformat),xaxis_title_text='Region')\n",
    "\n",
    "    fig.show()\n",
    "    \n",
    "    return None\n",
    "\n",
    "feature_names = [\"Logged GDP per capita\",\n",
    "                 \"Social support\",\n",
    "                 \"Healthy life expectancy\",\n",
    "                 \"Freedom to make life choices\",\n",
    "                 \"Generosity\",\n",
    "                 \"Perceptions of corruption\",\n",
    "                \"Dystopia + residual\"]\n",
    "for feature in feature_names:\n",
    "    feature_analysis(df_reg, feature)"
   ]
  },
  {
   "cell_type": "markdown",
   "id": "5b6cca6a",
   "metadata": {},
   "source": [
    "### Adding continents"
   ]
  },
  {
   "cell_type": "code",
   "execution_count": null,
   "id": "a3b6c3ac",
   "metadata": {},
   "outputs": [],
   "source": [
    "dfContinent=df_2021.copy()\n",
    "world = gpd.read_file(gpd.datasets.get_path('naturalearth_lowres'))\n",
    "country_data = list(dfContinent['Country name'].unique())\n",
    "country_geo = list(world['name'])"
   ]
  },
  {
   "cell_type": "markdown",
   "id": "3370017c",
   "metadata": {},
   "source": [
    "#### Searching for an different country names"
   ]
  },
  {
   "cell_type": "code",
   "execution_count": null,
   "id": "c8f46eb5",
   "metadata": {},
   "outputs": [],
   "source": [
    "country_diff = [country for country in country_data if country not in country_geo]\n",
    "country_diff"
   ]
  },
  {
   "cell_type": "markdown",
   "id": "f6240c70",
   "metadata": {},
   "source": [
    "#### Refactoring"
   ]
  },
  {
   "cell_type": "code",
   "execution_count": null,
   "id": "6dbee884",
   "metadata": {},
   "outputs": [],
   "source": [
    "dfContinent['Country name'] = dfContinent['Country name'].replace({'United States' : 'United States of America','Taiwan Province of China':'Taiwan','Bosnia and Herzegovina':'Bosnia and Herz.','Dominican Republic':'Dominican Rep.', 'North Cyprus':'N. Cyprus',\n",
    "'Swaziland':'Eswatini','Czech Republic' : 'Czechia','Congo (Brazzaville)':'Congo', 'Palestinian Territories' :'Palestine, State of',  'Hong Kong S.A.R. of China':'Hong Kong' })                                                                                    "
   ]
  },
  {
   "cell_type": "markdown",
   "id": "c28da263",
   "metadata": {},
   "source": [
    "#### Jonining tables"
   ]
  },
  {
   "cell_type": "code",
   "execution_count": null,
   "id": "f10cf108",
   "metadata": {},
   "outputs": [],
   "source": [
    "cont=world[['name','continent']]\n",
    "cont.columns=['Country name', 'Continent']\n",
    "dfW=dfContinent.merge(cont, on='Country name')"
   ]
  },
  {
   "cell_type": "code",
   "execution_count": null,
   "id": "c59db358",
   "metadata": {},
   "outputs": [],
   "source": [
    "dfTree=dfW.groupby(['Continent', 'Country name']).mean(['Healthy life expectancy']).reset_index()\n",
    "dfTree['World']='World'\n",
    "\n",
    "fig4=px.treemap(data_frame=dfTree, path=['World','Continent','Country name'], values='Happiness score')\n",
    "fig4.update_layout(title=dict(text='World Happiness tree map', xanchor='center', yanchor='top', x=0.5),title_font_size=22)\n",
    "fig4.show()"
   ]
  },
  {
   "cell_type": "markdown",
   "id": "db879a1d",
   "metadata": {},
   "source": [
    "## Countries with highest and  lowest happiness score"
   ]
  },
  {
   "cell_type": "code",
   "execution_count": null,
   "id": "5221110e",
   "metadata": {},
   "outputs": [],
   "source": [
    "dfhigh = df_2021.nlargest(10,\"Happiness score\")\n",
    "dfhigh = dfhigh.sort_values(by=['Happiness score'], ascending=True)\n",
    "dflow=  df_2021.nsmallest(10,\"Happiness score\")\n",
    "dflow = dflow.sort_values(by=['Happiness score'], ascending=False)\n",
    "\n",
    "fig = make_subplots(\n",
    "    rows=1, cols=2,\n",
    "    subplot_titles=('Countries with highest happiness score','Countries with lowest happiness score'),\n",
    "    horizontal_spacing = 0.12,\n",
    "    vertical_spacing = 0.25)\n",
    "\n",
    "\n",
    "\n",
    "fig.add_trace(go.Bar(\n",
    "                y=dfhigh[\"Country name\"],\n",
    "                x=dfhigh[\"Happiness score\"],\n",
    "                hovertext=dfhigh[\"Happiness score\"],\n",
    "                orientation='h'),\n",
    "                row=1, col=1)\n",
    "fig.add_trace(go.Bar(\n",
    "                y=dflow[\"Country name\"],\n",
    "                x=dflow[\"Happiness score\"],\n",
    "                hovertext=dflow[\"Happiness score\"],\n",
    "                orientation='h'),\n",
    "                row=1, col=2)\n",
    "\n",
    "                                                                                                        \n",
    "fig.update_layout(title_text='<b>Countries with highest and lowest happiness score<b>', \n",
    "                  titlefont={'size':25},\n",
    "                  title_x=0.5,\n",
    "                  showlegend=False,\n",
    "                  autosize=True,\n",
    "                  height=1000,\n",
    "                  template = \"plotly_white\",\n",
    "                  yaxis_title_text='Country',\n",
    "                  xaxis_title_text='Happiness score',\n",
    "                 )\n",
    "\n",
    "fig.show()\n",
    "\n",
    "\n"
   ]
  },
  {
   "cell_type": "markdown",
   "id": "7eb32791",
   "metadata": {},
   "source": [
    "## Variable influence for countries with highest and lowest happiness score"
   ]
  },
  {
   "cell_type": "code",
   "execution_count": null,
   "id": "140fed14",
   "metadata": {},
   "outputs": [],
   "source": [
    "explained_featuresh = df_2021.filter(regex=\"Explained\").columns.tolist()\n",
    "explained_featuresh.append(\"Dystopia + residual\")\n",
    "my_list = []\n",
    "for f,c in zip(explained_featuresh, px.colors.qualitative.D3):\n",
    "    my_list.append(go.Bar(y=df_2021.nlargest(10,\"Happiness score\")[\"Country name\"].values,\n",
    "                          x=df_2021.nlargest(10,\"Happiness score\")[f].values,\n",
    "                          name=f,\n",
    "                          marker=dict(color=c),\n",
    "                          orientation=\"h\"))\n",
    "fig = go.Figure(data=my_list)\n",
    "fig.update_traces(marker_line_color='rgb(255,255,255)',\n",
    "                  marker_line_width=2.5, opacity=0.7)\n",
    "\n",
    "fig.update_layout(title='Variables influence of countries with highest happiness score',barmode='stack',title_font_size=22,margin = dict(l=0,r=0,b=0,t=40,pad=4,autoexpand=True),\n",
    "            width=1500,height=1000,legend_title_text='Variable')\n",
    "\n",
    "fig.show()\n",
    "\n",
    "explained_featuresl = df_2021.filter(regex=\"Explained\").columns.tolist()\n",
    "explained_featuresl.append(\"Dystopia + residual\")\n",
    "my_list = []\n",
    "for f,c in zip(explained_featuresl, px.colors.qualitative.D3):\n",
    "    my_list.append(go.Bar(y=df_2021.nsmallest(10,\"Happiness score\")[\"Country name\"].values,\n",
    "                          x=df_2021.nsmallest(10,\"Happiness score\")[f].values,\n",
    "                          name=f,\n",
    "                          marker=dict(color=c),\n",
    "                          orientation=\"h\"))\n",
    "fig = go.Figure(data=my_list)\n",
    "fig.update_traces(marker_line_color='rgb(255,255,255)',\n",
    "                  marker_line_width=2.5, opacity=0.7)\n",
    "fig.update_layout(title='Variables influence of countries with lowest happiness score',barmode='stack',title_font_size=22,margin = dict(l=0,r=0,b=0,t=40,pad=4,autoexpand=True),\n",
    "            width=1500,height=1000,legend_title_text='Variable')\n",
    "fig.show()"
   ]
  },
  {
   "cell_type": "markdown",
   "id": "8791e855",
   "metadata": {},
   "source": [
    "### Variable influence in continental summaring"
   ]
  },
  {
   "cell_type": "code",
   "execution_count": null,
   "id": "a4dab7d7",
   "metadata": {},
   "outputs": [],
   "source": [
    "explain_column=['Explained by: Log GDP per capita', 'Explained by: Social support',\n",
    "       'Explained by: Healthy life expectancy',\n",
    "       'Explained by: Freedom to make life choices',\n",
    "       'Explained by: Generosity', 'Explained by: Perceptions of corruption',\n",
    "       'Dystopia + residual']\n",
    "\n",
    "col=explain_column.copy()\n",
    "col.append('Continent')"
   ]
  },
  {
   "cell_type": "markdown",
   "id": "78274a58",
   "metadata": {},
   "source": [
    "#### Average values for each continent"
   ]
  },
  {
   "cell_type": "code",
   "execution_count": null,
   "id": "6c76108d",
   "metadata": {},
   "outputs": [],
   "source": [
    "dfContinent=dfW[col].groupby(['Continent']).mean().reset_index()"
   ]
  },
  {
   "cell_type": "markdown",
   "id": "33066c1b",
   "metadata": {},
   "source": [
    "#### Values scalling"
   ]
  },
  {
   "cell_type": "code",
   "execution_count": null,
   "id": "3e42da3f",
   "metadata": {},
   "outputs": [],
   "source": [
    "scalar=MinMaxScaler()\n",
    "dfContinent[explain_column]=scalar.fit_transform(dfContinent[explain_column])"
   ]
  },
  {
   "cell_type": "code",
   "execution_count": null,
   "id": "f6d7af05",
   "metadata": {},
   "outputs": [],
   "source": [
    "def plot_polar(continent1,continent2):\n",
    "    \n",
    "    theta=dfContinent.columns[1:]\n",
    "    r1= dfContinent[dfContinent['Continent']==continent1].iloc[:,1:].values.flatten().tolist()\n",
    "    r2= dfContinent[dfContinent['Continent']==continent2].iloc[:,1:].values.flatten().tolist()\n",
    "\n",
    "\n",
    "    g1=go.Scatterpolar(r = r1,theta = theta,fill = 'toself',name=continent1)\n",
    "    g2=go.Scatterpolar(r = r2,theta = theta,fill = 'toself',name=continent2)\n",
    "    \n",
    "    data = [g1, g2]\n",
    "    fig = go.Figure(data = data)\n",
    "    fig.update_layout(title=dict(xanchor='center', yanchor='top', x=0.5),title_font_size=22)\n",
    "    fig.show()"
   ]
  },
  {
   "cell_type": "markdown",
   "id": "7de39a69",
   "metadata": {},
   "source": [
    "#### Continents comparisons"
   ]
  },
  {
   "cell_type": "code",
   "execution_count": null,
   "id": "fbb8a176",
   "metadata": {},
   "outputs": [],
   "source": [
    "plot_polar('Europe','Asia')\n",
    "plot_polar('North America','South America')\n",
    "plot_polar('Europe','North America')\n",
    "plot_polar('Asia','North America')\n",
    "plot_polar('Europe','Africa')"
   ]
  },
  {
   "cell_type": "markdown",
   "id": "df474a39",
   "metadata": {},
   "source": [
    "### 2021 data correlation"
   ]
  },
  {
   "cell_type": "code",
   "execution_count": null,
   "id": "a601d98d",
   "metadata": {
    "scrolled": true
   },
   "outputs": [],
   "source": [
    "dfHeat=df_2021.copy()\n",
    "dfHeat=dfHeat[['Happiness score','Logged GDP per capita', 'Social support', 'Healthy life expectancy',\n",
    "       'Freedom to make life choices', 'Generosity',\n",
    "       'Perceptions of corruption','Dystopia + residual']]\n",
    "plt.figure(figsize=(25,12))\n",
    "sub = np.triu(dfHeat.corr())\n",
    "sns.heatmap(dfHeat.corr(), annot=True,linewidth=.15, mask=sub,cbar_kws={'label': 'Variables influence'})\n",
    "\n",
    "plt.title('2021 data correlation')"
   ]
  },
  {
   "cell_type": "markdown",
   "id": "345e6529",
   "metadata": {},
   "source": [
    "### All of the variables impact the final happiness score"
   ]
  },
  {
   "cell_type": "markdown",
   "id": "406c69b5",
   "metadata": {},
   "source": [
    "## 3.2 Data visualization with mapping"
   ]
  },
  {
   "cell_type": "markdown",
   "id": "60db9207",
   "metadata": {},
   "source": [
    "## 2021 data"
   ]
  },
  {
   "cell_type": "code",
   "execution_count": null,
   "id": "001d8a7c",
   "metadata": {},
   "outputs": [],
   "source": [
    "dfMap=df_2021.copy()\n",
    "dfMap1 = dfMap.set_index('Country name')\n",
    "\n",
    "ref = pd.DataFrame(dfMap1['Happiness score']).reset_index()\n",
    "ref.loc[ref['Country name'] == 'Taiwan Province of China', 'Country name'] = 'Taiwan, Province of China' \n",
    "ref.loc[ref['Country name'] == 'Hong Kong S.A.R. of China', 'Country name'] = 'Hong Kong' \n",
    "ref.loc[ref['Country name'] == 'Congo (Brazzaville)','Country name'] = 'Congo' \n",
    "ref.loc[ref['Country name'] == 'Palestinian Territories','Country name'] = 'Palestine, State of' \n",
    "ref.drop(index=ref[ref['Country name'] == 'Kosovo'].index, inplace=True) \n",
    "ref.drop(index=ref[ref['Country name'] == 'North Cyprus'].index, inplace=True) \n",
    "ref['iso_alpha'] = ref['Country name'].apply(lambda x:pc.country_name_to_country_alpha3(x,))\n",
    "\n",
    "fig = px.choropleth(ref, locations='iso_alpha',\n",
    "                    color='Happiness score',\n",
    "                    hover_name='Country name',\n",
    "                    color_continuous_scale=px.colors.diverging.RdYlGn,\n",
    ")\n",
    "\n",
    "fig.update_layout(title=dict(text='World map - happiness score', xanchor='center', yanchor='top',x=0.5),title_font_size=22\n",
    "    ,paper_bgcolor='rgb(248, 248, 255)',geo_bgcolor='rgb(248, 248, 255)',margin = dict(l=0,r=0,b=0,t=50,pad=0,autoexpand=True),autosize=False,width=1500,height=1000)\n",
    "\n",
    "fig.show()"
   ]
  },
  {
   "cell_type": "code",
   "execution_count": null,
   "id": "bd035d73",
   "metadata": {},
   "outputs": [],
   "source": [
    "dfMap2 = dfMap.set_index('Country name')\n",
    "\n",
    "ref = pd.DataFrame(dfMap2['Social support']).reset_index()\n",
    "ref.loc[ref['Country name'] == 'Taiwan Province of China', 'Country name'] = 'Taiwan, Province of China' \n",
    "ref.loc[ref['Country name'] == 'Hong Kong S.A.R. of China', 'Country name'] = 'Hong Kong' \n",
    "ref.loc[ref['Country name'] == 'Congo (Brazzaville)','Country name'] = 'Congo' \n",
    "ref.loc[ref['Country name'] == 'Palestinian Territories','Country name'] = 'Palestine, State of' \n",
    "ref.drop(index=ref[ref['Country name'] == 'Kosovo'].index, inplace=True) \n",
    "ref.drop(index=ref[ref['Country name'] == 'North Cyprus'].index, inplace=True) \n",
    "ref['iso_alpha'] = ref['Country name'].apply(lambda x:pc.country_name_to_country_alpha3(x,))\n",
    "\n",
    "fig = px.choropleth(ref, locations='iso_alpha',\n",
    "                    color='Social support',\n",
    "                    hover_name='Country name',\n",
    "                    color_continuous_scale=px.colors.diverging.RdYlGn,\n",
    ")\n",
    "fig.update_layout(title=dict(text='World map - social support', xanchor='center', yanchor='top',x=0.5),title_font_size=22\n",
    "    ,paper_bgcolor='rgb(248, 248, 255)',geo_bgcolor='rgb(248, 248, 255)',margin = dict(l=0,r=0,b=0,t=50,pad=0,autoexpand=True),autosize=False,width=1500,height=1000)\n",
    "\n",
    "fig.show()"
   ]
  },
  {
   "cell_type": "code",
   "execution_count": null,
   "id": "d68f7d1e",
   "metadata": {},
   "outputs": [],
   "source": [
    "dfMap3 = dfMap.set_index('Country name')\n",
    "\n",
    "ref = pd.DataFrame(dfMap3['Logged GDP per capita']).reset_index()\n",
    "ref.loc[ref['Country name'] == 'Taiwan Province of China', 'Country name'] = 'Taiwan, Province of China' \n",
    "ref.loc[ref['Country name'] == 'Hong Kong S.A.R. of China', 'Country name'] = 'Hong Kong' \n",
    "ref.loc[ref['Country name'] == 'Congo (Brazzaville)','Country name'] = 'Congo' \n",
    "ref.loc[ref['Country name'] == 'Palestinian Territories','Country name'] = 'Palestine, State of' \n",
    "ref.drop(index=ref[ref['Country name'] == 'Kosovo'].index, inplace=True) \n",
    "ref.drop(index=ref[ref['Country name'] == 'North Cyprus'].index, inplace=True) \n",
    "ref['iso_alpha'] = ref['Country name'].apply(lambda x:pc.country_name_to_country_alpha3(x,))\n",
    "\n",
    "fig = px.choropleth(ref, locations='iso_alpha',\n",
    "                    color='Logged GDP per capita',\n",
    "                    hover_name='Country name',\n",
    "                    color_continuous_scale=px.colors.diverging.RdYlGn,\n",
    "                   )\n",
    "fig.update_layout(title=dict(text='World map - logged GDP per capita', xanchor='center', yanchor='top',x=0.5),title_font_size=22\n",
    "    ,paper_bgcolor='rgb(248, 248, 255)',geo_bgcolor='rgb(248, 248, 255)',margin = dict(l=0,r=0,b=0,t=50,pad=0,autoexpand=True),autosize=False,width=1500,height=1000)\n",
    "fig.show()"
   ]
  },
  {
   "cell_type": "code",
   "execution_count": null,
   "id": "b87fd94a",
   "metadata": {},
   "outputs": [],
   "source": [
    "dfMap4 = dfMap.set_index('Country name')\n",
    "\n",
    "ref = pd.DataFrame(dfMap4['Healthy life expectancy']).reset_index()\n",
    "ref.loc[ref['Country name'] == 'Taiwan Province of China', 'Country name'] = 'Taiwan, Province of China' \n",
    "ref.loc[ref['Country name'] == 'Hong Kong S.A.R. of China', 'Country name'] = 'Hong Kong' \n",
    "ref.loc[ref['Country name'] == 'Congo (Brazzaville)','Country name'] = 'Congo' \n",
    "ref.loc[ref['Country name'] == 'Palestinian Territories','Country name'] = 'Palestine, State of' \n",
    "ref.drop(index=ref[ref['Country name'] == 'Kosovo'].index, inplace=True) \n",
    "ref.drop(index=ref[ref['Country name'] == 'North Cyprus'].index, inplace=True) \n",
    "ref['iso_alpha'] = ref['Country name'].apply(lambda x:pc.country_name_to_country_alpha3(x,))\n",
    "\n",
    "fig = px.choropleth(ref, locations='iso_alpha',\n",
    "                    color='Healthy life expectancy',\n",
    "                    hover_name='Country name',\n",
    "                    color_continuous_scale=px.colors.diverging.RdYlGn,\n",
    ")\n",
    "fig.update_layout(title=dict(text='World map - healthy life expectancy', xanchor='center', yanchor='top',x=0.5),title_font_size=22\n",
    "    ,paper_bgcolor='rgb(248, 248, 255)',geo_bgcolor='rgb(248, 248, 255)',margin = dict(l=0,r=0,b=0,t=50,pad=0,autoexpand=True),autosize=False,width=1500,height=1000)\n",
    "\n",
    "fig.show()"
   ]
  },
  {
   "cell_type": "code",
   "execution_count": null,
   "id": "f703a915",
   "metadata": {},
   "outputs": [],
   "source": [
    "dfMap5 = dfMap.set_index('Country name')\n",
    "\n",
    "ref = pd.DataFrame(dfMap5['Freedom to make life choices']).reset_index()\n",
    "ref.loc[ref['Country name'] == 'Taiwan Province of China', 'Country name'] = 'Taiwan, Province of China' \n",
    "ref.loc[ref['Country name'] == 'Hong Kong S.A.R. of China', 'Country name'] = 'Hong Kong' \n",
    "ref.loc[ref['Country name'] == 'Congo (Brazzaville)','Country name'] = 'Congo' \n",
    "ref.loc[ref['Country name'] == 'Palestinian Territories','Country name'] = 'Palestine, State of' \n",
    "ref.drop(index=ref[ref['Country name'] == 'Kosovo'].index, inplace=True) \n",
    "ref.drop(index=ref[ref['Country name'] == 'North Cyprus'].index, inplace=True) \n",
    "ref['iso_alpha'] = ref['Country name'].apply(lambda x:pc.country_name_to_country_alpha3(x,))\n",
    "\n",
    "fig = px.choropleth(ref, locations='iso_alpha',\n",
    "                    color='Freedom to make life choices',\n",
    "                    hover_name='Country name',\n",
    "                    color_continuous_scale=px.colors.diverging.RdYlGn,\n",
    ")\n",
    "fig.update_layout(title=dict(text='World map - freedom to make life choices', xanchor='center', yanchor='top',x=0.5),title_font_size=22\n",
    "    ,paper_bgcolor='rgb(248, 248, 255)',geo_bgcolor='rgb(248, 248, 255)',margin = dict(l=0,r=0,b=0,t=50,pad=0,autoexpand=True),autosize=False,width=1500,height=1000)\n",
    "\n",
    "fig.show()"
   ]
  },
  {
   "cell_type": "code",
   "execution_count": null,
   "id": "6b7ca558",
   "metadata": {},
   "outputs": [],
   "source": [
    "dfMap6 = dfMap.set_index('Country name')\n",
    "\n",
    "ref = pd.DataFrame(dfMap6['Generosity']).reset_index()\n",
    "ref.loc[ref['Country name'] == 'Taiwan Province of China', 'Country name'] = 'Taiwan, Province of China' \n",
    "ref.loc[ref['Country name'] == 'Hong Kong S.A.R. of China', 'Country name'] = 'Hong Kong' \n",
    "ref.loc[ref['Country name'] == 'Congo (Brazzaville)','Country name'] = 'Congo' \n",
    "ref.loc[ref['Country name'] == 'Palestinian Territories','Country name'] = 'Palestine, State of' \n",
    "ref.drop(index=ref[ref['Country name'] == 'Kosovo'].index, inplace=True) \n",
    "ref.drop(index=ref[ref['Country name'] == 'North Cyprus'].index, inplace=True) \n",
    "ref['iso_alpha'] = ref['Country name'].apply(lambda x:pc.country_name_to_country_alpha3(x,))\n",
    "\n",
    "fig = px.choropleth(ref, locations='iso_alpha',\n",
    "                    color='Generosity',\n",
    "                    hover_name='Country name',\n",
    "                    color_continuous_scale=px.colors.diverging.RdYlGn,\n",
    ")\n",
    "fig.update_layout(title=dict(text='World map - generosity', xanchor='center', yanchor='top',x=0.5),title_font_size=22\n",
    "    ,paper_bgcolor='rgb(248, 248, 255)',geo_bgcolor='rgb(248, 248, 255)',margin = dict(l=0,r=0,b=0,t=50,pad=0,autoexpand=True),autosize=False,width=1500,height=1000)\n",
    "\n",
    "fig.show()"
   ]
  },
  {
   "cell_type": "code",
   "execution_count": null,
   "id": "103e9bd3",
   "metadata": {},
   "outputs": [],
   "source": [
    "dfMap7 = dfMap.set_index('Country name')\n",
    "\n",
    "ref = pd.DataFrame(dfMap7['Perceptions of corruption']).reset_index()\n",
    "ref.loc[ref['Country name'] == 'Taiwan Province of China', 'Country name'] = 'Taiwan, Province of China' \n",
    "ref.loc[ref['Country name'] == 'Hong Kong S.A.R. of China', 'Country name'] = 'Hong Kong' \n",
    "ref.loc[ref['Country name'] == 'Congo (Brazzaville)','Country name'] = 'Congo' \n",
    "ref.loc[ref['Country name'] == 'Palestinian Territories','Country name'] = 'Palestine, State of' \n",
    "ref.drop(index=ref[ref['Country name'] == 'Kosovo'].index, inplace=True) \n",
    "ref.drop(index=ref[ref['Country name'] == 'North Cyprus'].index, inplace=True) \n",
    "ref['iso_alpha'] = ref['Country name'].apply(lambda x:pc.country_name_to_country_alpha3(x,))\n",
    "\n",
    "fig = px.choropleth(ref, locations='iso_alpha',\n",
    "                    color='Perceptions of corruption',\n",
    "                    hover_name='Country name',\n",
    "                    color_continuous_scale=px.colors.diverging.RdYlGn,\n",
    ")\n",
    "fig.update_layout(title=dict(text='World map - perceptions of corruption', xanchor='center', yanchor='top',x=0.5),title_font_size=22\n",
    "    ,paper_bgcolor='rgb(248, 248, 255)',geo_bgcolor='rgb(248, 248, 255)',margin = dict(l=0,r=0,b=0,t=50,pad=0,autoexpand=True),autosize=False,width=1500,height=1000)\n",
    "\n",
    "fig.show()"
   ]
  },
  {
   "cell_type": "code",
   "execution_count": null,
   "id": "e0ef5b3b",
   "metadata": {},
   "outputs": [],
   "source": [
    "dfMap=df_2021.copy()\n",
    "dfMap1 = dfMap.set_index('Country name')\n",
    "\n",
    "ref = pd.DataFrame(dfMap1['Dystopia + residual']).reset_index()\n",
    "ref.loc[ref['Country name'] == 'Taiwan Province of China', 'Country name'] = 'Taiwan, Province of China' \n",
    "ref.loc[ref['Country name'] == 'Hong Kong S.A.R. of China', 'Country name'] = 'Hong Kong' \n",
    "ref.loc[ref['Country name'] == 'Congo (Brazzaville)','Country name'] = 'Congo' \n",
    "ref.loc[ref['Country name'] == 'Palestinian Territories','Country name'] = 'Palestine, State of' \n",
    "ref.drop(index=ref[ref['Country name'] == 'Kosovo'].index, inplace=True) \n",
    "ref.drop(index=ref[ref['Country name'] == 'North Cyprus'].index, inplace=True) \n",
    "ref['iso_alpha'] = ref['Country name'].apply(lambda x:pc.country_name_to_country_alpha3(x,))\n",
    "\n",
    "fig = px.choropleth(ref, locations='iso_alpha',\n",
    "                    color='Dystopia + residual',\n",
    "                    hover_name='Country name',\n",
    "                    color_continuous_scale=px.colors.diverging.RdYlGn,\n",
    ")\n",
    "\n",
    "fig.update_layout(title=dict(text='World map - Dystopia + residual', xanchor='center', yanchor='top',x=0.5),title_font_size=22\n",
    "    ,paper_bgcolor='rgb(248, 248, 255)',geo_bgcolor='rgb(248, 248, 255)',margin = dict(l=0,r=0,b=0,t=50,pad=0,autoexpand=True),autosize=False,width=1500,height=1000)\n",
    "    \n",
    "fig.show()"
   ]
  },
  {
   "cell_type": "markdown",
   "id": "14b27ee8",
   "metadata": {},
   "source": [
    "## Folium Maps"
   ]
  },
  {
   "cell_type": "markdown",
   "id": "548c83ba",
   "metadata": {},
   "source": [
    "### Applying coordinates based on location"
   ]
  },
  {
   "cell_type": "code",
   "execution_count": null,
   "id": "a4bbb9bc",
   "metadata": {},
   "outputs": [],
   "source": [
    "dfFoliummMap=df_2021.copy()\n",
    "geolocator = Nominatim(user_agent=\"User\")\n",
    "def geolocate(country):\n",
    "    try:\n",
    "        loc = geolocator.geocode(country)\n",
    "        return (loc.latitude, loc.longitude)\n",
    "    except:\n",
    "        return np.nan\n",
    "dfFoliummMap['lat_long']=dfFoliummMap['Country name'].apply(geolocate)\n",
    "dfFoliummMap.head()"
   ]
  },
  {
   "cell_type": "markdown",
   "id": "6dc356b6",
   "metadata": {},
   "source": [
    "### Manual applying of coordinates for countries without match"
   ]
  },
  {
   "cell_type": "code",
   "execution_count": null,
   "id": "026c445f",
   "metadata": {},
   "outputs": [],
   "source": [
    "dfFoliummMap['lat_long']=np.where(dfFoliummMap['Country name']=='Hong Kong S.A.R. of China','(22.3193,114.1694)',dfFoliummMap['lat_long'])\n",
    "dfFoliummMap['lat_long']=np.where(dfFoliummMap['Country name']=='Taiwan Province of China','(25.047,121.5318)',dfFoliummMap['lat_long'])"
   ]
  },
  {
   "cell_type": "code",
   "execution_count": null,
   "id": "9c592376",
   "metadata": {},
   "outputs": [],
   "source": [
    "dfFoliummMap[dfFoliummMap['lat_long'].isna()]"
   ]
  },
  {
   "cell_type": "markdown",
   "id": "2598a5d0",
   "metadata": {},
   "source": [
    "### Data transforming"
   ]
  },
  {
   "cell_type": "code",
   "execution_count": null,
   "id": "cd9787b8",
   "metadata": {},
   "outputs": [],
   "source": [
    "dfFoliummMap['lat_long']=dfFoliummMap['lat_long'].astype(str)\n",
    "dfFoliummMap['lat_long']=dfFoliummMap['lat_long'].str.replace('(','')\n",
    "dfFoliummMap['lat_long']=dfFoliummMap['lat_long'].str.replace(')','')\n",
    "dfFoliummMap=pd.concat([dfFoliummMap,dfFoliummMap['lat_long'].str.split(',',expand=True).rename({0:'lat',1:'long'},axis=1)],axis=1)"
   ]
  },
  {
   "cell_type": "markdown",
   "id": "14fd3d76",
   "metadata": {},
   "source": [
    "### Visualization based on countries coordinates using Folium"
   ]
  },
  {
   "cell_type": "code",
   "execution_count": null,
   "id": "fcd71e95",
   "metadata": {},
   "outputs": [],
   "source": [
    "world_map= folium.Map(location=[45.3656,9.1651],zoom_start=3,max_bounds=True,no_wrap=True,tiles=\"cartodbpositron\")\n",
    "marker_cluster = MarkerCluster().add_to(world_map)\n",
    "for i in range(len(dfFoliummMap)):\n",
    "        lat = dfFoliummMap.iloc[i]['lat']\n",
    "        long = dfFoliummMap.iloc[i]['long']\n",
    "        radius=5\n",
    "        popup_text = \"\"\"Kraj : {}<br> Happiness score : {}\"\"\"  \n",
    "        popup_text = popup_text.format(dfFoliummMap.iloc[i]['Country name'],dfFoliummMap.iloc[i]['Happiness score'],dfFoliummMap.iloc[i]['Logged GDP per capita'])\n",
    "        folium.CircleMarker(location = [lat, long], radius=radius, popup= popup_text, fill =True).add_to(marker_cluster)\n",
    "world_map"
   ]
  },
  {
   "cell_type": "markdown",
   "id": "f40223bd",
   "metadata": {},
   "source": [
    "## Historical data"
   ]
  },
  {
   "cell_type": "code",
   "execution_count": null,
   "id": "8ca289eb",
   "metadata": {},
   "outputs": [],
   "source": [
    "df_hist = pd.read_csv((data_url+\"/HistoricalData.csv\"+data_raw),sep=';',decimal=',')"
   ]
  },
  {
   "cell_type": "code",
   "execution_count": null,
   "id": "15913272",
   "metadata": {},
   "outputs": [],
   "source": [
    "df_hist.head()"
   ]
  },
  {
   "cell_type": "markdown",
   "id": "455a486d",
   "metadata": {},
   "source": [
    "### Interactive historical maps"
   ]
  },
  {
   "cell_type": "code",
   "execution_count": null,
   "id": "29c8a512",
   "metadata": {},
   "outputs": [],
   "source": [
    "dfIMAP=df_hist.copy()\n",
    "dfIMAP.rename({\"Life Ladder\": \"Happiness score\"},axis=1, inplace=True)\n",
    "df_choropleth=dfIMAP.groupby(['year','Country name']).mean(['Happiness score']).reset_index()\n",
    "dfIMAP = dfIMAP.sort_values(['year'],ascending=[True])\n",
    "fig = px.choropleth(data_frame=dfIMAP, locations='Country name',locationmode=\"country names\", \n",
    "                    color='Happiness score',animation_frame='year',\n",
    "                    color_continuous_scale=[(0, \"red\"), (0.5, \"white\"), (1, \"blue\")])\n",
    "\n",
    "fig.update_layout(title=dict(text='Happiness score 2005-2021', xanchor='center', yanchor='top',x=0.5),title_font_size=22,margin = dict(l=0,r=0,b=0,t=50,pad=0,autoexpand=True),autosize=False,width=1500,height=1000)\n",
    "fig.show()"
   ]
  },
  {
   "cell_type": "code",
   "execution_count": null,
   "id": "cd342f49",
   "metadata": {},
   "outputs": [],
   "source": [
    "df_choropleth=dfIMAP.groupby(['year','Country name']).mean(['Log GDP per capita']).reset_index()\n",
    "\n",
    "fig = px.choropleth(data_frame=dfIMAP, locations='Country name',locationmode=\"country names\", \n",
    "                    color='Log GDP per capita',animation_frame='year',\n",
    "                    color_continuous_scale=[(0, \"red\"), (0.5, \"white\"), (1, \"blue\")]\n",
    "                   )\n",
    "\n",
    "fig.update_layout(title=dict(text='Log GDP per capita 2005-2021', xanchor='center', yanchor='top',x=0.5),title_font_size=22,margin = dict(l=0,r=0,b=0,t=50,pad=0,autoexpand=True),autosize=False,width=1500,height=1000)\n",
    "fig.show()"
   ]
  },
  {
   "cell_type": "code",
   "execution_count": null,
   "id": "eeb2d3e5",
   "metadata": {},
   "outputs": [],
   "source": [
    "df_choropleth=dfIMAP.groupby(['year','Country name']).mean(['Social support']).reset_index()\n",
    "\n",
    "fig = px.choropleth(data_frame=dfIMAP, locations='Country name',locationmode=\"country names\", \n",
    "                    color='Social support',animation_frame='year',\n",
    "                    color_continuous_scale=[(0, \"red\"), (0.5, \"white\"), (1, \"blue\")])\n",
    "\n",
    "fig.update_layout(title=dict(text='Social support 2005-2021', xanchor='center', yanchor='top',x=0.5),title_font_size=22,margin = dict(l=0,r=0,b=0,t=50,pad=0,autoexpand=True),autosize=False,width=1500,height=1000)\n",
    "fig.show()"
   ]
  },
  {
   "cell_type": "code",
   "execution_count": null,
   "id": "2d6da216",
   "metadata": {},
   "outputs": [],
   "source": [
    "df_choropleth=dfIMAP.groupby(['year','Country name']).mean(['Healthy life expectancy at birth']).reset_index()\n",
    "\n",
    "fig = px.choropleth(data_frame=dfIMAP, locations='Country name',locationmode=\"country names\", \n",
    "                    color='Healthy life expectancy at birth',animation_frame='year',\n",
    "                    color_continuous_scale=[(0, \"red\"), (0.5, \"white\"), (1, \"blue\")])\n",
    "\n",
    "fig.update_layout(title=dict(text='Healthy life expectancy at birth 2005-2021', xanchor='center', yanchor='top',x=0.5),title_font_size=22,margin = dict(l=0,r=0,b=0,t=50,pad=0,autoexpand=True),autosize=False,width=1500,height=1000)\n",
    "fig.show()"
   ]
  },
  {
   "cell_type": "code",
   "execution_count": null,
   "id": "da747fcf",
   "metadata": {},
   "outputs": [],
   "source": [
    "df_choropleth=dfIMAP.groupby(['year','Country name']).mean(['Freedom to make life choices']).reset_index()\n",
    "\n",
    "fig = px.choropleth(data_frame=dfIMAP, locations='Country name',locationmode=\"country names\", \n",
    "                    color='Freedom to make life choices',animation_frame='year',\n",
    "                    color_continuous_scale=[(0, \"red\"), (0.5, \"white\"), (1, \"blue\")])\n",
    "\n",
    "fig.update_layout(title=dict(text='Freedom to make life choices 2005-2021', xanchor='center', yanchor='top',x=0.5),title_font_size=22,margin = dict(l=0,r=0,b=0,t=50,pad=0,autoexpand=True),autosize=False,width=1500,height=1000)\n",
    "fig.show()"
   ]
  },
  {
   "cell_type": "code",
   "execution_count": null,
   "id": "deb0fea6",
   "metadata": {},
   "outputs": [],
   "source": [
    "df_choropleth=dfIMAP.groupby(['year','Country name']).mean(['Generosity']).reset_index()\n",
    "\n",
    "fig = px.choropleth(data_frame=dfIMAP, locations='Country name',locationmode=\"country names\", \n",
    "                    color='Generosity',animation_frame='year',\n",
    "                    color_continuous_scale=[(0, \"red\"), (0.5, \"white\"), (1, \"blue\")])\n",
    "\n",
    "fig.update_layout(title=dict(text='Generosity 2005-2021', xanchor='center', yanchor='top',x=0.5),title_font_size=22,margin = dict(l=0,r=0,b=0,t=50,pad=0,autoexpand=True),autosize=False,width=1500,height=1000)\n",
    "fig.show()"
   ]
  },
  {
   "cell_type": "code",
   "execution_count": null,
   "id": "f93aecce",
   "metadata": {},
   "outputs": [],
   "source": [
    "df_choropleth=dfIMAP.groupby(['year','Country name']).mean(['Perceptions of corruption']).reset_index()\n",
    "\n",
    "fig = px.choropleth(data_frame=dfIMAP, locations='Country name',locationmode=\"country names\", \n",
    "                    color='Perceptions of corruption',animation_frame='year',\n",
    "                    color_continuous_scale=[(0, \"red\"), (0.5, \"white\"), (1, \"blue\")])\n",
    "\n",
    "fig.update_layout(title=dict(text='Perceptions of corruption 2005-2021', xanchor='center', yanchor='top',x=0.5),title_font_size=22,margin = dict(l=0,r=0,b=0,t=50,pad=0,autoexpand=True),autosize=False,width=1500,height=1000)\n",
    "      \n",
    "fig.show()"
   ]
  },
  {
   "cell_type": "markdown",
   "id": "bfdcf5c2",
   "metadata": {},
   "source": [
    "# 4. Machine learning"
   ]
  },
  {
   "cell_type": "markdown",
   "id": "d8808d31",
   "metadata": {},
   "source": [
    "## 4.1 Supervised learning"
   ]
  },
  {
   "cell_type": "markdown",
   "id": "b6b088ac",
   "metadata": {},
   "source": [
    "### Data preprocessing&transforming"
   ]
  },
  {
   "cell_type": "code",
   "execution_count": null,
   "id": "13cae12c",
   "metadata": {},
   "outputs": [],
   "source": [
    "train=df_2021.copy()\n",
    "train=train[['Happiness score','Logged GDP per capita', 'Social support', 'Healthy life expectancy',\n",
    "       'Freedom to make life choices', 'Generosity',\n",
    "       'Perceptions of corruption','Dystopia + residual']]\n",
    "train.info()"
   ]
  },
  {
   "cell_type": "code",
   "execution_count": null,
   "id": "31398eb4",
   "metadata": {},
   "outputs": [],
   "source": [
    "y=train['Happiness score']\n",
    "x=train.drop(['Happiness score'],axis=1)"
   ]
  },
  {
   "cell_type": "code",
   "execution_count": null,
   "id": "37e19576",
   "metadata": {},
   "outputs": [],
   "source": [
    "X_train, X_test, y_train, y_test=train_test_split(x,y,test_size=0.2,random_state=1)\n",
    "scaler = StandardScaler()\n",
    "scaler.fit(X_train)\n",
    "X_train = scaler.transform(X_train)\n",
    "X_test = scaler.transform(X_test)"
   ]
  },
  {
   "cell_type": "code",
   "execution_count": null,
   "id": "ed60fe60",
   "metadata": {},
   "outputs": [],
   "source": [
    "df_models = pd.DataFrame(data=None, columns=['Algorithm', 'MSE', 'MAE','R2'])\n",
    "\n",
    "def make_model(X_tr, X_te, y_tr, y_te, model, model_name: str): \n",
    "    model.fit(X_tr, y_tr)\n",
    "    y_pred=model.predict(X_te)\n",
    "    MSE=mean_squared_error(y_te,y_pred)\n",
    "    MAE=mean_absolute_error(y_te, y_pred)\n",
    "    R2 = r2_score(y_te, y_pred)\n",
    "    df_models.loc[len(df_models.index)] = [model_name, MSE, MAE,R2]"
   ]
  },
  {
   "cell_type": "code",
   "execution_count": null,
   "id": "60412ed4",
   "metadata": {},
   "outputs": [],
   "source": [
    "models = [RandomForestRegressor(),DecisionTreeRegressor(),ElasticNet(), KNeighborsRegressor(), XGBRegressor(),Ridge(),LinearRegression(),linear_model.BayesianRidge(),SVR()]"
   ]
  },
  {
   "cell_type": "code",
   "execution_count": null,
   "id": "1564cfdb",
   "metadata": {},
   "outputs": [],
   "source": [
    "for model in models:\n",
    "    make_model(X_train, X_test, y_train, y_test, model, f'{model}'[:10])"
   ]
  },
  {
   "cell_type": "code",
   "execution_count": null,
   "id": "a0d131d0",
   "metadata": {},
   "outputs": [],
   "source": [
    "fig = go.Figure(data=[\n",
    "    go.Bar(name='MSE', x=df_models.Algorithm, y=df_models.MSE),\n",
    "    go.Bar(name='MAE', x=df_models.Algorithm, y=df_models.MAE),\n",
    "    go.Bar(name='R2', x=df_models.Algorithm, y=df_models.R2)\n",
    "])\n",
    "\n",
    "fig.update_layout(title='MAE,MSE,R2 of happiness score for different regression models',title_font_size=22,margin = dict(l=0,r=0,b=0,t=40,pad=4,autoexpand=True),\n",
    "            width=1500,height=1000,legend_title_text='Legend')"
   ]
  },
  {
   "cell_type": "markdown",
   "id": "37fa7455",
   "metadata": {},
   "source": [
    "## 4.1.2 Comparing variables influence for different regression models"
   ]
  },
  {
   "cell_type": "markdown",
   "id": "619be10f",
   "metadata": {},
   "source": [
    "###  Data transforming"
   ]
  },
  {
   "cell_type": "code",
   "execution_count": null,
   "id": "07cc4b25",
   "metadata": {},
   "outputs": [],
   "source": [
    "df5=df_2021.copy()\n",
    "y=df5['Happiness score']\n",
    "X=df5[['Logged GDP per capita', 'Social support', 'Healthy life expectancy',\n",
    "       'Freedom to make life choices', 'Generosity',\n",
    "       'Perceptions of corruption','Dystopia + residual']]"
   ]
  },
  {
   "cell_type": "code",
   "execution_count": null,
   "id": "1e726e43",
   "metadata": {},
   "outputs": [],
   "source": [
    "X_train,X_test,Y_train,Y_test= train_test_split(X,y,test_size=0.2,random_state=1)\n",
    "scaler = StandardScaler()\n",
    "scaler.fit(X_train)\n",
    "X_train = scaler.transform(X_train)\n",
    "X_test = scaler.transform(X_test)"
   ]
  },
  {
   "cell_type": "markdown",
   "id": "d96f69be",
   "metadata": {},
   "source": [
    "### Linear Regression"
   ]
  },
  {
   "cell_type": "code",
   "execution_count": null,
   "id": "7096ef58",
   "metadata": {},
   "outputs": [],
   "source": [
    "lin_reg = LinearRegression()\n",
    "lin_reg.fit(X_train,Y_train)\n",
    "y_hat = lin_reg.predict(X_test)\n",
    "R2_train = lin_reg.score(X_train, Y_train)\n",
    "R2_test = lin_reg.score(X_test, Y_test)\n",
    "mse = mean_squared_error(Y_test, y_hat)\n",
    "R2_test, mse"
   ]
  },
  {
   "cell_type": "code",
   "execution_count": null,
   "id": "145a6939",
   "metadata": {},
   "outputs": [],
   "source": [
    "coefficients = pd.DataFrame({\"Feature\":X.columns,\"Coefficients\":np.transpose(lin_reg.coef_)})\n",
    "fig = px.bar(coefficients, x=\"Feature\", y=\"Coefficients\")\n",
    "fig.update_layout(title_text='<b>Linear Regression<b>', \n",
    "                  titlefont={'size':25},\n",
    "                  title_x=0.5,\n",
    "                  showlegend=False,\n",
    "                  autosize=True,\n",
    "                  height=1000,\n",
    "                  template = \"plotly_white\",\n",
    "                  yaxis_title_text='Variable influence',\n",
    "                  xaxis_title_text='Variable',\n",
    "                 )\n"
   ]
  },
  {
   "cell_type": "markdown",
   "id": "47b0c21e",
   "metadata": {},
   "source": [
    "## Ridge Regression"
   ]
  },
  {
   "cell_type": "code",
   "execution_count": null,
   "id": "3acf8da8",
   "metadata": {},
   "outputs": [],
   "source": [
    "RRmodel = Ridge()\n",
    "RRmodel.fit(X_train, Y_train)\n",
    "y_hat = RRmodel.predict(X_test)\n",
    "R2_train = RRmodel.score(X_train, Y_train)\n",
    "R2_test = RRmodel.score(X_test, Y_test)\n",
    "mse = mean_squared_error(Y_test, y_hat)\n",
    "R2_test, mse"
   ]
  },
  {
   "cell_type": "code",
   "execution_count": null,
   "id": "f1f4ea84",
   "metadata": {},
   "outputs": [],
   "source": [
    "coefficients = pd.DataFrame({\"Feature\":X.columns,\"Coefficients\":np.transpose(RRmodel.coef_)})\n",
    "fig = px.bar(coefficients, x=\"Feature\", y=\"Coefficients\")\n",
    "fig.update_layout(title_text='<b>Ridge Regression<b>', \n",
    "                  titlefont={'size':25},\n",
    "                  title_x=0.5,\n",
    "                  showlegend=False,\n",
    "                  autosize=True,\n",
    "                  height=1000,\n",
    "                   template = \"plotly_white\",\n",
    "                  yaxis_title_text='Variable influence',\n",
    "                  xaxis_title_text='Variable',\n",
    "                 )"
   ]
  },
  {
   "cell_type": "markdown",
   "id": "63cc36fd",
   "metadata": {},
   "source": [
    "### ElasticNet Regression"
   ]
  },
  {
   "cell_type": "code",
   "execution_count": null,
   "id": "91baffbf",
   "metadata": {},
   "outputs": [],
   "source": [
    "ENmodel = ElasticNet()\n",
    "ENmodel.fit(X_train, Y_train)\n",
    "y_hat = ENmodel.predict(X_test)\n",
    "R2_train = ENmodel.score(X_train, Y_train)\n",
    "R2_test = ENmodel.score(X_test, Y_test)\n",
    "mse = mean_squared_error(Y_test, y_hat)\n",
    "R2_test, mse"
   ]
  },
  {
   "cell_type": "code",
   "execution_count": null,
   "id": "49990d1f",
   "metadata": {},
   "outputs": [],
   "source": [
    "coefficients = pd.DataFrame({\"Feature\":X.columns,\"Coefficients\":np.transpose(ENmodel.coef_)})\n",
    "fig = px.bar(coefficients, x=\"Feature\", y=\"Coefficients\")\n",
    "fig.update_layout(title_text='<b>Elastic Net Regression<b>', \n",
    "                  titlefont={'size':25},\n",
    "                  title_x=0.5,\n",
    "                  showlegend=False,\n",
    "                  autosize=True,\n",
    "                  height=1000,\n",
    "                   template = \"plotly_white\",\n",
    "                  yaxis_title_text='Variable influence',\n",
    "                  xaxis_title_text='Variable',\n",
    "                 )"
   ]
  },
  {
   "cell_type": "markdown",
   "id": "ea6a8ef2",
   "metadata": {},
   "source": [
    "### SVR Regression"
   ]
  },
  {
   "cell_type": "code",
   "execution_count": null,
   "id": "a32e45ef",
   "metadata": {},
   "outputs": [],
   "source": [
    "svr = SVR(kernel='linear')\n",
    "svr.fit(X_train, Y_train)\n",
    "y_hat = svr.predict(X_test)\n",
    "R2_train = svr.score(X_train, Y_train)\n",
    "R2_test = svr.score(X_test, Y_test)\n",
    "mse = mean_squared_error(Y_test, y_hat)\n",
    "R2_test, mse"
   ]
  },
  {
   "cell_type": "code",
   "execution_count": null,
   "id": "c7521e41",
   "metadata": {},
   "outputs": [],
   "source": [
    "coefficients = pd.DataFrame({\"Feature\":X.columns,\"Coefficients\":np.transpose(svr.coef_[0])})\n",
    "fig = px.bar(coefficients, x=\"Feature\", y=\"Coefficients\")\n",
    "fig.update_layout(title_text='<b>SVR Regression<b>', \n",
    "                  titlefont={'size':25},\n",
    "                  title_x=0.5,\n",
    "                  showlegend=False,\n",
    "                  autosize=True,\n",
    "                  height=1000,\n",
    "                   template = \"plotly_white\",\n",
    "                  yaxis_title_text='Variable influence',\n",
    "                  xaxis_title_text='Variable',\n",
    "                 )"
   ]
  },
  {
   "cell_type": "markdown",
   "id": "c6dc770b",
   "metadata": {},
   "source": [
    "### BayesianRidge Regression"
   ]
  },
  {
   "cell_type": "code",
   "execution_count": null,
   "id": "1a499e6c",
   "metadata": {},
   "outputs": [],
   "source": [
    "BRmodel = linear_model.BayesianRidge()\n",
    "BRmodel.fit(X_train, Y_train)\n",
    "y_hat = BRmodel.predict(X_test)\n",
    "R2_train = BRmodel.score(X_train, Y_train)\n",
    "R2_test = BRmodel.score(X_test, Y_test)\n",
    "mse = mean_squared_error(Y_test, y_hat)\n",
    "R2_test, mse"
   ]
  },
  {
   "cell_type": "code",
   "execution_count": null,
   "id": "e99c71ee",
   "metadata": {},
   "outputs": [],
   "source": [
    "coefficients = pd.DataFrame({\"Feature\":X.columns,\"Coefficients\":np.transpose(BRmodel.coef_)})\n",
    "fig = px.bar(coefficients, x=\"Feature\", y=\"Coefficients\")\n",
    "fig.update_layout(title_text='<b>Bayesian Ridge Regression<b>', \n",
    "                  titlefont={'size':25},\n",
    "                  title_x=0.5,\n",
    "                  showlegend=False,\n",
    "                  autosize=True,\n",
    "                  height=1000,\n",
    "                  template = \"plotly_white\",\n",
    "                  yaxis_title_text='Variable influence',\n",
    "                  xaxis_title_text='Variable',\n",
    "                 )"
   ]
  },
  {
   "cell_type": "markdown",
   "id": "a52efac9",
   "metadata": {},
   "source": [
    "### DecisionTree Regression"
   ]
  },
  {
   "cell_type": "code",
   "execution_count": null,
   "id": "b19094fd",
   "metadata": {},
   "outputs": [],
   "source": [
    "dtr= DecisionTreeRegressor()\n",
    "dtr.fit(X_train,Y_train)\n",
    "y_pred = dtr.predict(X_test)\n",
    "test_mse = mean_squared_error(Y_test, y_pred)\n",
    "y_pred_train = dtr.predict(X_train)\n",
    "train_mse = mean_squared_error(Y_train, y_pred_train)\n",
    "dtr.score(X_test, Y_test), test_mse "
   ]
  },
  {
   "cell_type": "code",
   "execution_count": null,
   "id": "86d77524",
   "metadata": {},
   "outputs": [],
   "source": [
    "coefficients = pd.DataFrame({\"Feature\":X.columns,\"Coefficients\":dtr.feature_importances_})\n",
    "fig = px.bar(coefficients, x=\"Feature\", y=\"Coefficients\")\n",
    "fig.update_layout(title_text='<b>Decision Tree Regression<b>', \n",
    "                  titlefont={'size':25},\n",
    "                  title_x=0.5,\n",
    "                  showlegend=False,\n",
    "                  autosize=True,\n",
    "                  height=1000,\n",
    "                   template = \"plotly_white\",\n",
    "                  yaxis_title_text='Variable influence',\n",
    "                  xaxis_title_text='Variable',\n",
    "                 )"
   ]
  },
  {
   "cell_type": "markdown",
   "id": "15020dca",
   "metadata": {},
   "source": [
    "### Random Forest Regression"
   ]
  },
  {
   "cell_type": "code",
   "execution_count": null,
   "id": "f15b37b5",
   "metadata": {},
   "outputs": [],
   "source": [
    "rf = RandomForestRegressor()\n",
    "rf.fit(X_train, Y_train)\n",
    "y_hat = rf.predict(X_test)\n",
    "errors = abs(y_hat - Y_test)\n",
    "acc = 1 - errors\n",
    "rf.score(X_test, Y_test), np.mean(acc)"
   ]
  },
  {
   "cell_type": "code",
   "execution_count": null,
   "id": "316973d6",
   "metadata": {},
   "outputs": [],
   "source": [
    "coefficients = pd.DataFrame({\"Feature\":X.columns,\"Coefficients\":rf.feature_importances_})\n",
    "fig = px.bar(coefficients, x=\"Feature\", y=\"Coefficients\")\n",
    "fig.update_layout(title_text='<b>Random Forest Regression<b>', \n",
    "                  titlefont={'size':25},\n",
    "                  title_x=0.5,\n",
    "                  showlegend=False,\n",
    "                  autosize=True,\n",
    "                  height=1000,\n",
    "                   template = \"plotly_white\",\n",
    "                  yaxis_title_text='Variable influence',\n",
    "                  xaxis_title_text='Variable',\n",
    "                 )"
   ]
  },
  {
   "cell_type": "markdown",
   "id": "937183e1",
   "metadata": {},
   "source": [
    "### XGB Regression"
   ]
  },
  {
   "cell_type": "code",
   "execution_count": null,
   "id": "e5966b2d",
   "metadata": {},
   "outputs": [],
   "source": [
    "xgbR = XGBRegressor()\n",
    "xgbR.fit(X_train, Y_train)\n",
    "y_hat = xgbR.predict(X_test)\n",
    "R2_train = xgbR.score(X_train, Y_train)\n",
    "R2_test = xgbR.score(X_test, Y_test)\n",
    "mse = mean_squared_error(Y_test, y_hat)\n",
    "R2_test, mse"
   ]
  },
  {
   "cell_type": "code",
   "execution_count": null,
   "id": "29ecd95a",
   "metadata": {},
   "outputs": [],
   "source": [
    "coefficients = pd.DataFrame({\"Feature\":X.columns,\"Coefficients\":xgbR.feature_importances_})\n",
    "fig = px.bar(coefficients, x=\"Feature\", y=\"Coefficients\")\n",
    "fig.update_layout(title_text='<b>XGB Regression<b>', \n",
    "                  titlefont={'size':25},\n",
    "                  title_x=0.5,\n",
    "                  showlegend=False,\n",
    "                  autosize=True,\n",
    "                  height=1000,\n",
    "                   template = \"plotly_white\",\n",
    "                  yaxis_title_text='Variable influence',\n",
    "                  xaxis_title_text='Variable',\n",
    "                 )"
   ]
  },
  {
   "cell_type": "markdown",
   "id": "f3501e65",
   "metadata": {},
   "source": [
    "## 4.2 Unsupervised learning (clustering)"
   ]
  },
  {
   "cell_type": "markdown",
   "id": "067e331a",
   "metadata": {},
   "source": [
    "## Data normalization"
   ]
  },
  {
   "cell_type": "code",
   "execution_count": null,
   "id": "ca666cd9",
   "metadata": {},
   "outputs": [],
   "source": [
    "dfCluster=df_2021.copy()\n",
    "dfCluster.drop(['lowerwhisker','upperwhisker','Happiness score in Dystopia','Standard error of ladder score','Explained by: Log GDP per capita','Explained by: Social support','Explained by: Healthy life expectancy','Explained by: Freedom to make life choices','Explained by: Generosity','Explained by: Perceptions of corruption'],axis=1,inplace=True)\n",
    "country=dfCluster[dfCluster.columns[0]]\n",
    "dataC= dfCluster.iloc[:,2:]"
   ]
  },
  {
   "cell_type": "code",
   "execution_count": null,
   "id": "a3cb4d67",
   "metadata": {},
   "outputs": [],
   "source": [
    "def normalizedData(x):\n",
    "    normalised = StandardScaler()\n",
    "    normalised.fit_transform(x)\n",
    "    return(x)"
   ]
  },
  {
   "cell_type": "code",
   "execution_count": null,
   "id": "d0b64ac3",
   "metadata": {},
   "outputs": [],
   "source": [
    "dataC = normalizedData(dataC)"
   ]
  },
  {
   "cell_type": "markdown",
   "id": "934bffcd",
   "metadata": {},
   "source": [
    "## K-means clustering"
   ]
  },
  {
   "cell_type": "code",
   "execution_count": null,
   "id": "aafbd7f9",
   "metadata": {},
   "outputs": [],
   "source": [
    "def Kmeans(x, y):\n",
    "    km= cluster.KMeans(x)\n",
    "    km_result=km.fit_predict(y)\n",
    "    return(km_result)"
   ]
  },
  {
   "cell_type": "markdown",
   "id": "32cd92e9",
   "metadata": {},
   "source": [
    "### Cluster groups"
   ]
  },
  {
   "cell_type": "code",
   "execution_count": null,
   "id": "9a2a4f6c",
   "metadata": {},
   "outputs": [],
   "source": [
    "km_result = Kmeans(8,dataC)\n",
    "dataC['Kmeans_Cluster'] = pd.DataFrame(km_result)\n",
    "dataset=pd.concat([dataC,country],axis=1)\n",
    "dataset.groupby(by=[\"Kmeans_Cluster\"]).mean()"
   ]
  },
  {
   "cell_type": "code",
   "execution_count": null,
   "id": "9ede019d",
   "metadata": {},
   "outputs": [],
   "source": [
    "dataPlot = dict(type = 'choropleth', \n",
    "           locations = dataset['Country name'],\n",
    "           locationmode = 'country names',\n",
    "           z = dataset['Kmeans_Cluster'], \n",
    "           text = dataset['Country name'],\n",
    "           colorbar = {'title':'Cluster group'})\n",
    "layout = dict(title = 'K-means', \n",
    "           geo = dict(showframe = False, ), autosize=False,title_font_size=22,\n",
    "        margin = dict(l=0,r=0,b=0,t=40,pad=4,autoexpand=True),\n",
    "            width=1500,height=1000)\n",
    "choromap3 = go.Figure(data = [dataPlot], layout=layout)\n",
    "iplot(choromap3) "
   ]
  },
  {
   "cell_type": "markdown",
   "id": "a8b32463",
   "metadata": {},
   "source": [
    "## Minibatch Kmeans clustering"
   ]
  },
  {
   "cell_type": "code",
   "execution_count": null,
   "id": "0481a3c3",
   "metadata": {},
   "outputs": [],
   "source": [
    "def MiniKmeans(x, y):\n",
    "    mb= cluster.MiniBatchKMeans(x)\n",
    "    mb_result=mb.fit_predict(y)\n",
    "    return(mb_result)"
   ]
  },
  {
   "cell_type": "markdown",
   "id": "1b45d44e",
   "metadata": {},
   "source": [
    "### Cluster groups"
   ]
  },
  {
   "cell_type": "code",
   "execution_count": null,
   "id": "bf4db1b0",
   "metadata": {},
   "outputs": [],
   "source": [
    "dataC.drop(['Kmeans_Cluster'],axis=1,inplace=True)\n",
    "mb_result = MiniKmeans(8,dataC)\n",
    "dataC['MiniKmeans_Cluster'] = pd.DataFrame(mb_result)\n",
    "dataset=pd.concat([dataC,country],axis=1)\n",
    "dataset.groupby(by=[\"MiniKmeans_Cluster\"]).mean()"
   ]
  },
  {
   "cell_type": "code",
   "execution_count": null,
   "id": "2950d87e",
   "metadata": {},
   "outputs": [],
   "source": [
    "dataPlot = dict(type = 'choropleth', \n",
    "           locations = dataset['Country name'],\n",
    "           locationmode = 'country names',\n",
    "           z = dataset['MiniKmeans_Cluster'], \n",
    "           text = dataset['Country name'],\n",
    "           colorbar = {'title':'Cluster group'})\n",
    "layout = dict(title = 'Minibatch K-means', \n",
    "           geo = dict(showframe = False, )\n",
    "             , autosize=False,title_font_size=22,\n",
    "        margin = dict(l=0,r=0,b=0,t=40,pad=4,autoexpand=True),\n",
    "            width=1500,height=1000)\n",
    "choromap3 = go.Figure(data = [dataPlot], layout=layout)\n",
    "iplot(choromap3) "
   ]
  },
  {
   "cell_type": "markdown",
   "id": "57e224a8",
   "metadata": {},
   "source": [
    "## DBSCAN clustering"
   ]
  },
  {
   "cell_type": "code",
   "execution_count": null,
   "id": "9f2bc996",
   "metadata": {},
   "outputs": [],
   "source": [
    "def Dbscan(x, y):\n",
    "    db=cluster.DBSCAN(eps=x)\n",
    "    db_result=db.fit_predict(y)\n",
    "    return(db_result)"
   ]
  },
  {
   "cell_type": "markdown",
   "id": "81e6411d",
   "metadata": {},
   "source": [
    "### Cluster groups"
   ]
  },
  {
   "cell_type": "code",
   "execution_count": null,
   "id": "48b5e121",
   "metadata": {},
   "outputs": [],
   "source": [
    "dataC.drop(['MiniKmeans_Cluster'],axis=1,inplace=True)\n",
    "db_result = Dbscan(0.95,dataC)\n",
    "dataC['Dbscan_cluster'] = pd.DataFrame(db_result)\n",
    "dataset=pd.concat([dataC,country],axis=1)\n",
    "dataset.groupby(by=[\"Dbscan_cluster\"]).mean()"
   ]
  },
  {
   "cell_type": "code",
   "execution_count": null,
   "id": "d152537f",
   "metadata": {},
   "outputs": [],
   "source": [
    "dataPlot = dict(type = 'choropleth', \n",
    "           locations = dataset['Country name'],\n",
    "           locationmode = 'country names',\n",
    "           z = dataset['Dbscan_cluster'], \n",
    "           text = dataset['Country name'],\n",
    "           colorbar = {'title':'Cluster group'})\n",
    "layout = dict(title = 'DBSCAN', \n",
    "           geo = dict(showframe = False, ), autosize=False,title_font_size=22,\n",
    "        margin = dict(l=0,r=0,b=0,t=40,pad=4,autoexpand=True),\n",
    "            width=1500,height=1000)\n",
    "choromap3 = go.Figure(data = [dataPlot], layout=layout)\n",
    "iplot(choromap3) "
   ]
  },
  {
   "cell_type": "markdown",
   "id": "e48c135a",
   "metadata": {},
   "source": [
    "## Affinity Propagation clustering"
   ]
  },
  {
   "cell_type": "code",
   "execution_count": null,
   "id": "1da16c14",
   "metadata": {},
   "outputs": [],
   "source": [
    "def Affinity(x, y,z):\n",
    "    ap=cluster.AffinityPropagation(damping=x, preference=y)\n",
    "    ap_result=ap.fit_predict(z)\n",
    "    return(ap_result)"
   ]
  },
  {
   "cell_type": "markdown",
   "id": "49f52a28",
   "metadata": {},
   "source": [
    "### Cluster groups"
   ]
  },
  {
   "cell_type": "code",
   "execution_count": null,
   "id": "a93d5209",
   "metadata": {},
   "outputs": [],
   "source": [
    "dataC.drop(['Dbscan_cluster'],axis=1,inplace=True)\n",
    "ap_result = Affinity(0.9,-100,dataC)\n",
    "dataC['Affinity_Cluster'] = pd.DataFrame(ap_result)\n",
    "dataset=pd.concat([dataC,country],axis=1)\n",
    "dataset.groupby(by=[\"Affinity_Cluster\"]).mean()"
   ]
  },
  {
   "cell_type": "code",
   "execution_count": null,
   "id": "e259b099",
   "metadata": {},
   "outputs": [],
   "source": [
    "dataPlot = dict(type = 'choropleth', \n",
    "           locations = dataset['Country name'],\n",
    "           locationmode = 'country names',\n",
    "           z = dataset['Affinity_Cluster'], \n",
    "           text = dataset['Country name'],\n",
    "           colorbar = {'title':'Cluster group'})\n",
    "layout = dict(title = 'Affinity Propagation', \n",
    "           geo = dict(showframe = False, ), autosize=False,title_font_size=22,\n",
    "        margin = dict(l=0,r=0,b=0,t=40,pad=4,autoexpand=True),\n",
    "            width=1500,height=1000)\n",
    "choromap3 = go.Figure(data = [dataPlot], layout=layout)\n",
    "iplot(choromap3) "
   ]
  },
  {
   "cell_type": "markdown",
   "id": "d4b4babb",
   "metadata": {},
   "source": [
    "##  Gaussian Mixture clustering"
   ]
  },
  {
   "cell_type": "code",
   "execution_count": null,
   "id": "592e5049",
   "metadata": {},
   "outputs": [],
   "source": [
    "def gmm(x, y):\n",
    "    gm=mixture.GaussianMixture(n_components=x,covariance_type='full')\n",
    "    gm.fit(y)\n",
    "    gm_result=gm.predict(y)\n",
    "    return(gm_result)"
   ]
  },
  {
   "cell_type": "markdown",
   "id": "52373c55",
   "metadata": {},
   "source": [
    "### Cluster groups"
   ]
  },
  {
   "cell_type": "code",
   "execution_count": null,
   "id": "a6d17e75",
   "metadata": {},
   "outputs": [],
   "source": [
    "dataC.drop(['Affinity_Cluster'],axis=1,inplace=True)\n",
    "gm_result = gmm(8,dataC)\n",
    "dataC['GM_Cluster'] = pd.DataFrame(gm_result)\n",
    "dataset=pd.concat([dataC,country],axis=1)\n",
    "dataset.groupby(by=[\"GM_Cluster\"]).mean()"
   ]
  },
  {
   "cell_type": "code",
   "execution_count": null,
   "id": "5f7ff9ac",
   "metadata": {},
   "outputs": [],
   "source": [
    "dataPlot = dict(type = 'choropleth', \n",
    "           locations = dataset['Country name'],\n",
    "           locationmode = 'country names',\n",
    "           z = dataset['GM_Cluster'], \n",
    "           text = dataset['Country name'],\n",
    "           colorbar = {'title':'Cluster group'})\n",
    "layout = dict(title = 'Gaussian Mixture', \n",
    "           geo = dict(showframe = False, ), autosize=False,title_font_size=22,\n",
    "        margin = dict(l=0,r=0,b=0,t=40,pad=4,autoexpand=True),\n",
    "            width=1500,height=1000)\n",
    "choromap3 = go.Figure(data = [dataPlot], layout=layout)\n",
    "iplot(choromap3) "
   ]
  },
  {
   "cell_type": "markdown",
   "id": "a8960ec0",
   "metadata": {},
   "source": [
    "## BIRCH clustering"
   ]
  },
  {
   "cell_type": "code",
   "execution_count": null,
   "id": "88627b2c",
   "metadata": {},
   "outputs": [],
   "source": [
    "def Bir(x, y):\n",
    "    bi=cluster.Birch(n_clusters=x)\n",
    "    bi_result=bi.fit_predict(y)\n",
    "    return(bi_result)"
   ]
  },
  {
   "cell_type": "markdown",
   "id": "511d3f8c",
   "metadata": {},
   "source": [
    "### Cluster groups"
   ]
  },
  {
   "cell_type": "code",
   "execution_count": null,
   "id": "57633425",
   "metadata": {},
   "outputs": [],
   "source": [
    "dataC.drop(['GM_Cluster'],axis=1,inplace=True)\n",
    "bi_result = Bir(8,dataC)\n",
    "dataC['Birch_Cluster'] = pd.DataFrame(bi_result)\n",
    "dataset=pd.concat([dataC,country],axis=1)\n",
    "dataset.groupby(by=[\"Birch_Cluster\"]).mean()"
   ]
  },
  {
   "cell_type": "code",
   "execution_count": null,
   "id": "ebe2dea6",
   "metadata": {},
   "outputs": [],
   "source": [
    "dataPlot = dict(type = 'choropleth', \n",
    "           locations = dataset['Country name'],\n",
    "           locationmode = 'country names',\n",
    "           z = dataset['Birch_Cluster'], \n",
    "           text = dataset['Country name'],\n",
    "           colorbar = {'title':'Cluster group'})\n",
    "layout = dict(title = 'BIRCH', \n",
    "           geo = dict(showframe = False, ), autosize=False,title_font_size=22,\n",
    "        margin = dict(l=0,r=0,b=0,t=40,pad=4,autoexpand=True),\n",
    "            width=1500,height=1000)\n",
    "choromap3 = go.Figure(data = [dataPlot], layout=layout)\n",
    "iplot(choromap3) "
   ]
  },
  {
   "cell_type": "markdown",
   "id": "755da479",
   "metadata": {},
   "source": [
    "## Spectral clustering"
   ]
  },
  {
   "cell_type": "code",
   "execution_count": null,
   "id": "4a19614d",
   "metadata": {},
   "outputs": [],
   "source": [
    "n_clusters=8 \n",
    "spectral = cluster.SpectralClustering(n_clusters=n_clusters)\n",
    "sp_result= spectral.fit_predict(dataC)"
   ]
  },
  {
   "cell_type": "markdown",
   "id": "8a9b24c0",
   "metadata": {},
   "source": [
    "### Cluster groups"
   ]
  },
  {
   "cell_type": "code",
   "execution_count": null,
   "id": "085dc3e4",
   "metadata": {},
   "outputs": [],
   "source": [
    "dataC.drop(['Birch_Cluster'],axis=1,inplace=True)\n",
    "dataC['Spectral_Cluster'] = pd.DataFrame(sp_result)\n",
    "dataset=pd.concat([dataC,country],axis=1)\n",
    "dataset.groupby(by=[\"Spectral_Cluster\"]).mean()"
   ]
  },
  {
   "cell_type": "code",
   "execution_count": null,
   "id": "e3b3319e",
   "metadata": {},
   "outputs": [],
   "source": [
    "dataPlot = dict(type = 'choropleth', \n",
    "           locations = dataset['Country name'],\n",
    "           locationmode = 'country names',\n",
    "           z = dataset['Spectral_Cluster'], \n",
    "           text = dataset['Country name'],\n",
    "           colorbar = {'title':'Cluster group'})\n",
    "layout = dict(title = 'Spectral', \n",
    "           geo = dict(showframe = False, ), autosize=False,title_font_size=22,\n",
    "        margin = dict(l=0,r=0,b=0,t=40,pad=4,autoexpand=True),\n",
    "            width=1500,height=1000)\n",
    "choromap3 = go.Figure(data = [dataPlot], layout=layout)\n",
    "iplot(choromap3) "
   ]
  }
 ],
 "metadata": {
  "kernelspec": {
   "display_name": "Python 3 (ipykernel)",
   "language": "python",
   "name": "python3"
  },
  "language_info": {
   "codemirror_mode": {
    "name": "ipython",
    "version": 3
   },
   "file_extension": ".py",
   "mimetype": "text/x-python",
   "name": "python",
   "nbconvert_exporter": "python",
   "pygments_lexer": "ipython3",
   "version": "3.8.7"
  }
 },
 "nbformat": 4,
 "nbformat_minor": 5
}
